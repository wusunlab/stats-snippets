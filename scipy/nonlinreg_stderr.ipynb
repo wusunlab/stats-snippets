{
 "cells": [
  {
   "cell_type": "markdown",
   "metadata": {},
   "source": [
    "# Calculate parameter error estimates from scipy.optimize results\n",
    "\n",
    "Wu Sun\n",
    "\n",
    "Last updated: 2018-04-10\n",
    "\n",
    "This notebook shows how to conduct parameter error estimation for a `scipy.optimize` nonlinear regression. The results are validated with the R `nls` function."
   ]
  },
  {
   "cell_type": "code",
   "execution_count": 1,
   "metadata": {},
   "outputs": [],
   "source": [
    "\"\"\"Nonlinear regression parameter error estimates: Comparsion between scipy and R\"\"\"\n",
    "import numpy as np\n",
    "from numpy import random\n",
    "from scipy import optimize\n",
    "import matplotlib.pyplot as plt\n",
    "import rpy2\n",
    "import rpy2.robjects as robjects\n",
    "import rpy2.robjects.numpy2ri\n",
    "\n",
    "plt.rcParams['figure.figsize'] = [6.4, 4.8]"
   ]
  },
  {
   "cell_type": "markdown",
   "metadata": {},
   "source": [
    "## Function to optimize"
   ]
  },
  {
   "cell_type": "code",
   "execution_count": 2,
   "metadata": {},
   "outputs": [],
   "source": [
    "def func(p, x):\n",
    "    return p[0] * (1 - np.exp(-x + p[1]))\n",
    "\n",
    "\n",
    "def resid_func(p, x, y):\n",
    "    return p[0] * (1 - np.exp(-x + p[1])) - y\n",
    "\n",
    "\n",
    "def jac_func(p, x):\n",
    "    return np.vstack((1. - np.exp(-x + p[1]), -p[0] * np.exp(-x + p[1]))).T"
   ]
  },
  {
   "cell_type": "code",
   "execution_count": 3,
   "metadata": {},
   "outputs": [],
   "source": [
    "# Create synthetic data with random errors\n",
    "x_data = np.arange(0., 2.01, 0.01)\n",
    "y_data = func([5., 0.05], x_data) + random.random(x_data.size)"
   ]
  },
  {
   "cell_type": "markdown",
   "metadata": {},
   "source": [
    "## Scipy least_squares fit"
   ]
  },
  {
   "cell_type": "code",
   "execution_count": 4,
   "metadata": {},
   "outputs": [
    {
     "name": "stdout",
     "output_type": "stream",
     "text": [
      "SSR =  16.2883284973\n",
      "variance of y data =  1.70924027715\n",
      "degree of freedom =  199\n",
      "estimated mean square error =  0.0818508969716\n",
      "estimated root mean square error =  0.286095957629\n",
      "\n",
      "J^T J for approximated jacobian:\n",
      " [[   80.35053232  -209.13568101]\n",
      " [ -209.13568101  1363.0126805 ]]\n",
      "\n",
      "J^T J for analytically evaluated jacobian:\n",
      " [[   80.3505324   -209.13568265]\n",
      " [ -209.13568265  1363.01270104]]\n"
     ]
    }
   ],
   "source": [
    "params_guess = [3., 0.]\n",
    "splsq_fit = optimize.least_squares(resid_func, params_guess, loss='linear',\n",
    "                                   f_scale=1, args=(x_data, y_data))\n",
    "# derived statistics\n",
    "SSR = np.nansum(splsq_fit.fun ** 2)\n",
    "var_y = np.var(y_data)\n",
    "dof = y_data.size - 2\n",
    "MSE = SSR / dof\n",
    "RMSE = np.sqrt(MSE)\n",
    "print('SSR = ', SSR)\n",
    "print('variance of y data = ', var_y)\n",
    "print('degree of freedom = ', dof)\n",
    "print('estimated mean square error = ', MSE)\n",
    "print('estimated root mean square error = ', RMSE)\n",
    "\n",
    "# get parameter standard error estimates\n",
    "neg_hess = np.dot(splsq_fit.jac.T, splsq_fit.jac)\n",
    "inv_neg_hess = np.linalg.inv(neg_hess)\n",
    "splsq_fit_params_se = np.sqrt(np.diagonal(inv_neg_hess)) * RMSE\n",
    "\n",
    "# test scipy least squares jacobian\n",
    "print('\\nJ^T J for approximated jacobian:\\n', np.dot(splsq_fit.jac.T, splsq_fit.jac))\n",
    "jac = jac_func(splsq_fit.x, x_data)\n",
    "print('\\nJ^T J for analytically evaluated jacobian:\\n', np.dot(jac.T, jac))"
   ]
  },
  {
   "cell_type": "markdown",
   "metadata": {},
   "source": [
    "## Validation with R nls"
   ]
  },
  {
   "cell_type": "code",
   "execution_count": 5,
   "metadata": {},
   "outputs": [
    {
     "name": "stdout",
     "output_type": "stream",
     "text": [
      "\n",
      "Formula: y_data ~ p0 * (1 - exp(-x_data + p1))\n",
      "\n",
      "Parameters:\n",
      "    Estimate Std. Error t value Pr(>|t|)    \n",
      "p0  5.515218   0.041182 133.922  < 2e-16 ***\n",
      "p1 -0.050730   0.009999  -5.073 8.93e-07 ***\n",
      "---\n",
      "Signif. codes:  0 ‘***’ 0.001 ‘**’ 0.01 ‘*’ 0.05 ‘.’ 0.1 ‘ ’ 1\n",
      "\n",
      "Residual standard error: 0.2861 on 199 degrees of freedom\n",
      "\n",
      "Number of iterations to convergence: 3 \n",
      "Achieved convergence tolerance: 3.067e-06\n",
      "\n",
      "\n",
      "param. std. err., scipy least_squares(): \n",
      " [ 0.04118236  0.00999898]\n",
      "\n",
      "param. std. err., R nls(): \n",
      " [ 0.04118236  0.00999897]\n"
     ]
    }
   ],
   "source": [
    "# import R nls and other useful functions\n",
    "rpy2.robjects.numpy2ri.activate()  # activate the numpy2R conversion\n",
    "rnls = robjects.r['nls']\n",
    "rcoef = robjects.r['coef']\n",
    "rsummary = robjects.r['summary']\n",
    "rnls_fit = rnls(\n",
    "    'y_data ~ p0 * (1 - exp(-x_data + p1))',\n",
    "    data=robjects.DataFrame({'x_data': x_data, 'y_data': y_data}),\n",
    "    start=robjects.r('list(p0=3, p1=0)'), trace=False)\n",
    "rnls_fit_params = np.array(rcoef(rnls_fit))\n",
    "\n",
    "# show summary\n",
    "rnls_fit_summary = rsummary(rnls_fit)\n",
    "print(rnls_fit_summary)\n",
    "# get accessible fields of the summary\n",
    "# print(rsummary(rnls_fit).names)\n",
    "\n",
    "# convert to python dictionary for access\n",
    "rnls_fit_dict = dict(zip(rnls_fit_summary.names, list(rnls_fit_summary)))\n",
    "\n",
    "# get parameter standard error estimates\n",
    "rnls_fit_params_se = np.array(rnls_fit_dict['parameters'])[:, 1]\n",
    "\n",
    "print('param. std. err., scipy least_squares(): \\n', splsq_fit_params_se)\n",
    "print('\\nparam. std. err., R nls(): \\n', rnls_fit_params_se)"
   ]
  },
  {
   "cell_type": "code",
   "execution_count": 6,
   "metadata": {},
   "outputs": [
    {
     "data": {
      "image/png": "[encoded data removed]",
      "text/plain": [
       "<Figure size 360x288 with 1 Axes>"
      ]
     },
     "metadata": {},
     "output_type": "display_data"
    }
   ],
   "source": [
    "fig1, f1ax = plt.subplots(figsize=(5, 4))\n",
    "f1ax.plot(x_data, y_data, '.', label='synthetic data')\n",
    "f1ax.plot(x_data, func(splsq_fit.x, x_data), '-', label='scipy.optimize.least_squares()')\n",
    "f1ax.plot(x_data, func(rnls_fit_params, x_data), '-', label='R nls()')\n",
    "f1ax.legend(loc='best')\n",
    "fig1.tight_layout()"
   ]
  }
 ],
 "metadata": {
  "kernelspec": {
   "display_name": "Python 3",
   "language": "python",
   "name": "python3"
  },
  "language_info": {
   "codemirror_mode": {
    "name": "ipython",
    "version": 3
   },
   "file_extension": ".py",
   "mimetype": "text/x-python",
   "name": "python",
   "nbconvert_exporter": "python",
   "pygments_lexer": "ipython3",
   "version": "3.6.5"
  }
 },
 "nbformat": 4,
 "nbformat_minor": 2
}
