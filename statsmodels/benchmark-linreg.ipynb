{
 "cells": [
  {
   "cell_type": "markdown",
   "metadata": {},
   "source": [
    "# Linear regression performance benchmark: scikit-learn vs. statsmodels\n",
    "\n",
    "Wu Sun\n",
    "\n",
    "2019-05-03\n",
    "\n",
    "This notebook tests the performance of running ordinary least square (OLS) linear regression on samples of an intermediate size (*n* ~ 10<sup>2</sup>–10<sup>4</sup>) using [Scikit-learn](https://scikit-learn.org/stable/) vs. using [Statsmodels](https://www.statsmodels.org/stable/index.html)."
   ]
  },
  {
   "cell_type": "code",
   "execution_count": 1,
   "metadata": {
    "ExecuteTime": {
     "end_time": "2019-05-03T22:22:42.925881Z",
     "start_time": "2019-05-03T22:22:41.508922Z"
    }
   },
   "outputs": [],
   "source": [
    "import numpy as np\n",
    "import pandas as pd\n",
    "import statsmodels.api as sm\n",
    "from scipy.stats import pearsonr\n",
    "from sklearn import datasets\n",
    "from sklearn.linear_model import LinearRegression"
   ]
  },
  {
   "cell_type": "markdown",
   "metadata": {},
   "source": [
    "## Version information"
   ]
  },
  {
   "cell_type": "code",
   "execution_count": 2,
   "metadata": {
    "ExecuteTime": {
     "end_time": "2019-05-03T22:22:43.235613Z",
     "start_time": "2019-05-03T22:22:42.928341Z"
    }
   },
   "outputs": [
    {
     "name": "stdout",
     "output_type": "stream",
     "text": [
      "numpy version = 1.16.3\n",
      "scipy version = 1.2.1\n",
      "pandas version = 0.24.2\n",
      "statsmodels version = 0.9.0\n",
      "scikit-learn version = 0.19.2\n"
     ]
    }
   ],
   "source": [
    "import pkg_resources\n",
    "\n",
    "for pkg in [\"numpy\", \"scipy\", \"pandas\", \"statsmodels\", \"scikit-learn\"]:\n",
    "    version = pkg_resources.get_distribution(pkg).version\n",
    "    print(f\"{pkg} version = {version}\")"
   ]
  },
  {
   "cell_type": "markdown",
   "metadata": {},
   "source": [
    "## Load the dataset\n",
    "\n",
    "Load the Boston house prices dataset from Scikit-learn."
   ]
  },
  {
   "cell_type": "code",
   "execution_count": 3,
   "metadata": {
    "ExecuteTime": {
     "end_time": "2019-05-03T22:22:43.247729Z",
     "start_time": "2019-05-03T22:22:43.238066Z"
    }
   },
   "outputs": [],
   "source": [
    "dataset = datasets.load_boston()\n",
    "X = dataset.data\n",
    "y = dataset.target\n",
    "# add constants\n",
    "X_with_const = np.hstack([np.ones((X.shape[0], 1)), X])"
   ]
  },
  {
   "cell_type": "markdown",
   "metadata": {
    "ExecuteTime": {
     "end_time": "2019-05-03T21:28:54.712070Z",
     "start_time": "2019-05-03T21:28:54.707122Z"
    }
   },
   "source": [
    "## Benchmark regressions\n",
    "\n",
    "### Baseline: normal equation"
   ]
  },
  {
   "cell_type": "code",
   "execution_count": 4,
   "metadata": {
    "ExecuteTime": {
     "end_time": "2019-05-03T22:22:43.254669Z",
     "start_time": "2019-05-03T22:22:43.249233Z"
    },
    "scrolled": true
   },
   "outputs": [
    {
     "name": "stdout",
     "output_type": "stream",
     "text": [
      "Linear regression results from the normal equation\n",
      "* coefs = [ 3.64911033e+01 -1.07170557e-01  4.63952195e-02  2.08602395e-02\n",
      "  2.68856140e+00 -1.77957587e+01  3.80475246e+00  7.51061703e-04\n",
      " -1.47575880e+00  3.05655038e-01 -1.23293463e-02 -9.53463555e-01\n",
      "  9.39251272e-03 -5.25466633e-01]\n",
      "* R^2 = 0.7406077428649426\n"
     ]
    }
   ],
   "source": [
    "coefs = np.linalg.solve(X_with_const.T @ X_with_const, X_with_const.T @ y)\n",
    "r2 = pearsonr(X_with_const @ coefs, y)[0] ** 2\n",
    "\n",
    "print(f\"\"\"Linear regression results from the normal equation\n",
    "* coefs = {coefs}\n",
    "* R^2 = {r2}\"\"\")"
   ]
  },
  {
   "cell_type": "code",
   "execution_count": 5,
   "metadata": {
    "ExecuteTime": {
     "end_time": "2019-05-03T22:22:44.052468Z",
     "start_time": "2019-05-03T22:22:43.258149Z"
    },
    "scrolled": true
   },
   "outputs": [
    {
     "name": "stdout",
     "output_type": "stream",
     "text": [
      "113 µs ± 3.24 µs per loop (mean ± std. dev. of 7 runs, 1000 loops each)\n"
     ]
    }
   ],
   "source": [
    "%%timeit -n 1000\n",
    "coefs = np.linalg.solve(X_with_const.T @ X_with_const, X_with_const.T @ y)\n",
    "r2 = pearsonr(X_with_const @ coefs, y)[0] ** 2"
   ]
  },
  {
   "cell_type": "markdown",
   "metadata": {},
   "source": [
    "### Statsmodels OLS"
   ]
  },
  {
   "cell_type": "code",
   "execution_count": 6,
   "metadata": {
    "ExecuteTime": {
     "end_time": "2019-05-03T22:22:44.071681Z",
     "start_time": "2019-05-03T22:22:44.055430Z"
    }
   },
   "outputs": [
    {
     "name": "stdout",
     "output_type": "stream",
     "text": [
      "                            OLS Regression Results                            \n",
      "==============================================================================\n",
      "Dep. Variable:                      y   R-squared:                       0.741\n",
      "Model:                            OLS   Adj. R-squared:                  0.734\n",
      "Method:                 Least Squares   F-statistic:                     108.1\n",
      "Date:                Fri, 03 May 2019   Prob (F-statistic):          6.95e-135\n",
      "Time:                        15:22:44   Log-Likelihood:                -1498.8\n",
      "No. Observations:                 506   AIC:                             3026.\n",
      "Df Residuals:                     492   BIC:                             3085.\n",
      "Df Model:                          13                                         \n",
      "Covariance Type:            nonrobust                                         \n",
      "==============================================================================\n",
      "                 coef    std err          t      P>|t|      [0.025      0.975]\n",
      "------------------------------------------------------------------------------\n",
      "const         36.4911      5.104      7.149      0.000      26.462      46.520\n",
      "x1            -0.1072      0.033     -3.276      0.001      -0.171      -0.043\n",
      "x2             0.0464      0.014      3.380      0.001       0.019       0.073\n",
      "x3             0.0209      0.061      0.339      0.735      -0.100       0.142\n",
      "x4             2.6886      0.862      3.120      0.002       0.996       4.381\n",
      "x5           -17.7958      3.821     -4.658      0.000     -25.302     -10.289\n",
      "x6             3.8048      0.418      9.102      0.000       2.983       4.626\n",
      "x7             0.0008      0.013      0.057      0.955      -0.025       0.027\n",
      "x8            -1.4758      0.199     -7.398      0.000      -1.868      -1.084\n",
      "x9             0.3057      0.066      4.608      0.000       0.175       0.436\n",
      "x10           -0.0123      0.004     -3.278      0.001      -0.020      -0.005\n",
      "x11           -0.9535      0.131     -7.287      0.000      -1.211      -0.696\n",
      "x12            0.0094      0.003      3.500      0.001       0.004       0.015\n",
      "x13           -0.5255      0.051    -10.366      0.000      -0.625      -0.426\n",
      "==============================================================================\n",
      "Omnibus:                      178.029   Durbin-Watson:                   1.078\n",
      "Prob(Omnibus):                  0.000   Jarque-Bera (JB):              782.015\n",
      "Skew:                           1.521   Prob(JB):                    1.54e-170\n",
      "Kurtosis:                       8.276   Cond. No.                     1.51e+04\n",
      "==============================================================================\n",
      "\n",
      "Warnings:\n",
      "[1] Standard Errors assume that the covariance matrix of the errors is correctly specified.\n",
      "[2] The condition number is large, 1.51e+04. This might indicate that there are\n",
      "strong multicollinearity or other numerical problems.\n"
     ]
    }
   ],
   "source": [
    "lm_sm = sm.OLS(y, X_with_const).fit()\n",
    "print(lm_sm.summary())"
   ]
  },
  {
   "cell_type": "code",
   "execution_count": 7,
   "metadata": {
    "ExecuteTime": {
     "end_time": "2019-05-03T22:22:48.368594Z",
     "start_time": "2019-05-03T22:22:44.073929Z"
    }
   },
   "outputs": [
    {
     "name": "stdout",
     "output_type": "stream",
     "text": [
      "613 µs ± 10.7 µs per loop (mean ± std. dev. of 7 runs, 1000 loops each)\n"
     ]
    }
   ],
   "source": [
    "%%timeit -n 1000\n",
    "lm_sm = sm.OLS(y, X_with_const).fit()"
   ]
  },
  {
   "cell_type": "markdown",
   "metadata": {},
   "source": [
    "## Scikit-learn linear model\n"
   ]
  },
  {
   "cell_type": "code",
   "execution_count": 8,
   "metadata": {
    "ExecuteTime": {
     "end_time": "2019-05-03T22:22:48.374295Z",
     "start_time": "2019-05-03T22:22:48.370917Z"
    }
   },
   "outputs": [],
   "source": [
    "sk_ols = LinearRegression(fit_intercept=False)"
   ]
  },
  {
   "cell_type": "code",
   "execution_count": 9,
   "metadata": {
    "ExecuteTime": {
     "end_time": "2019-05-03T22:22:48.382023Z",
     "start_time": "2019-05-03T22:22:48.376334Z"
    }
   },
   "outputs": [
    {
     "name": "stdout",
     "output_type": "stream",
     "text": [
      "Scikit-learn linear regression results\n",
      "* coefs = [ 3.64911033e+01 -1.07170557e-01  4.63952195e-02  2.08602395e-02\n",
      "  2.68856140e+00 -1.77957587e+01  3.80475246e+00  7.51061703e-04\n",
      " -1.47575880e+00  3.05655038e-01 -1.23293463e-02 -9.53463555e-01\n",
      "  9.39251272e-03 -5.25466633e-01]\n",
      "* R^2 = 0.7406077428649428\n"
     ]
    }
   ],
   "source": [
    "lm_sk = sk_ols.fit(X_with_const, y)\n",
    "score_sk = lm_sk.score(X_with_const, y)  # this calculates the R^2\n",
    "print(f\"\"\"Scikit-learn linear regression results\n",
    "* coefs = {lm_sk.coef_}\n",
    "* R^2 = {score_sk}\"\"\")"
   ]
  },
  {
   "cell_type": "code",
   "execution_count": 10,
   "metadata": {
    "ExecuteTime": {
     "end_time": "2019-05-03T22:22:50.637344Z",
     "start_time": "2019-05-03T22:22:48.384202Z"
    }
   },
   "outputs": [
    {
     "name": "stdout",
     "output_type": "stream",
     "text": [
      "642 µs ± 19.5 µs per loop (mean ± std. dev. of 7 runs, 500 loops each)\n"
     ]
    }
   ],
   "source": [
    "%%timeit -n 500\n",
    "lm_sk = sk_ols.fit(X_with_const, y)\n",
    "score_sk = lm_sk.score(X_with_const, y)"
   ]
  },
  {
   "cell_type": "markdown",
   "metadata": {},
   "source": [
    "## Summary\n",
    "\n",
    "1. Speed ranking: normal equation > Scikit-learn `LinearRegression` ≈ Statsmodels `OLS`.\n",
    "2. The Statsmodels `OLS` class provides a rich set of statistics for diagnosing the goodness of the fit, which does not exist in the results from other methods.\n",
    "3. Given that there is not a significant difference between the performance of Scikit-learn `LinearRegression` and that of Statsmodels `OLS`, **Statsmodels should be the preferred package for performing linear regression in Python**.\n",
    "4. For bootstrapping when the performance of a single iteration is critical, the normal equation may be preferred."
   ]
  }
 ],
 "metadata": {
  "kernelspec": {
   "display_name": "Python 3",
   "language": "python",
   "name": "python3"
  },
  "language_info": {
   "codemirror_mode": {
    "name": "ipython",
    "version": 3
   },
   "file_extension": ".py",
   "mimetype": "text/x-python",
   "name": "python",
   "nbconvert_exporter": "python",
   "pygments_lexer": "ipython3",
   "version": "3.7.0"
  }
 },
 "nbformat": 4,
 "nbformat_minor": 2
}
